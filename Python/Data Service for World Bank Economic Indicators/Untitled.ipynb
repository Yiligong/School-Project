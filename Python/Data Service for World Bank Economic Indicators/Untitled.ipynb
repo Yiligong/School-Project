{
 "cells": [
  {
   "cell_type": "code",
   "execution_count": 1,
   "metadata": {},
   "outputs": [],
   "source": [
    "import pandas as pd\n",
    "import datetime\n",
    "import json\n",
    "import requests\n",
    "import sqlite3 as lite\n",
    "from pandas.io import sql\n",
    "from flask import Flask, jsonify\n",
    "from flask_restplus import Resource, Api"
   ]
  },
  {
   "cell_type": "code",
   "execution_count": 11,
   "metadata": {},
   "outputs": [
    {
     "name": "stdout",
     "output_type": "stream",
     "text": [
      "NY.GDP.MKTP.CD\n"
     ]
    }
   ],
   "source": [
    "# app = Flask(__name__)\n",
    "# #api = Api(app)\n",
    "\n",
    "\n",
    "# @app.route('http://api.worldbank.org/v2/')\n",
    "\n",
    "# class Books(Resource):\n",
    "#     def get():\n",
    "#         return {'key':[1,2,3]}\n",
    "def return_json(url):\n",
    "    headers = {'methods':'GET','Accept':'application/json'}\n",
    "    response = requests.get(url,headers=headers)\n",
    "    data = response.json()\n",
    "    return data\n",
    "indicator_id = 'NY.GDP.MKTP.CD???'\n",
    "url = 'http://api.worldbank.org/v2/countries/all/indicators/'+indicator_id+'?date=2012:2017&format=json&per_page=1000'\n",
    "#url = 'http://api.worldbank.org/v2/indicators'\n",
    "data = return_json(url)\n",
    "print(data[1][0]['indicator']['id'])\n",
    "#print(data[0]['message'][0]['key'])\n",
    "#df = pd.read_json(json.dumps(data[1]))\n",
    "\n",
    "\n",
    "#app.run(debug=True)"
   ]
  },
  {
   "cell_type": "code",
   "execution_count": 220,
   "metadata": {},
   "outputs": [],
   "source": [
    "a = str(df.loc[0,'indicator'])\n",
    "\n",
    "a = json.dumps(df.loc[0,'indicator'])\n",
    "a = str(a)\n",
    "y = json.loads(a)\n",
    "\n",
    "df['indicator'] = df['indicator'].apply(lambda x: str(json.dumps(x)))\n",
    "df['country'] = df['country'].apply(lambda x: str(json.dumps(x)))"
   ]
  },
  {
   "cell_type": "code",
   "execution_count": 2,
   "metadata": {},
   "outputs": [],
   "source": [
    "db_name = 'z5199285.db'\n",
    "table_name = '1.0.HCount.1.90usd'\n",
    "conn = lite.connect(db_name)\n",
    "#df.to_sql(name=table_name,con=conn)\n"
   ]
  },
  {
   "cell_type": "code",
   "execution_count": 71,
   "metadata": {},
   "outputs": [
    {
     "data": {
      "text/plain": [
       "0      Arab World\n",
       "1      Arab World\n",
       "2      Arab World\n",
       "3      Arab World\n",
       "4      Arab World\n",
       "          ...    \n",
       "995    Madagascar\n",
       "996        Malawi\n",
       "997        Malawi\n",
       "998        Malawi\n",
       "999        Malawi\n",
       "Length: 1000, dtype: object"
      ]
     },
     "execution_count": 71,
     "metadata": {},
     "output_type": "execute_result"
    }
   ],
   "source": [
    "c = conn.cursor()\n",
    "table_name = 'NY.GDP.MKTP.CD'\n",
    "query_df = f\"SELECT indicator,country,date,value FROM '{table_name}'\"\n",
    "df_clean = pd.read_sql_query(query_df,conn)\n",
    "q = df_clean.apply(lambda x: {\"country\":x['country'],\"date\":x['date'],\"value\":x['value']},axis=1)\n",
    "#q.tolist()"
   ]
  },
  {
   "cell_type": "code",
   "execution_count": 261,
   "metadata": {},
   "outputs": [],
   "source": [
    "# c = conn.cursor()\n",
    "# indicator_id = '1.0.HCount.1.90usd'\n",
    "# a = sql.read_sql(\"select * from \" + \"sqlite_master WHERE type='table'\", conn)\n",
    "# query_s = \"SELECT id FROM collection_id WHERE indicator_id=?;\"\n",
    "# c.execute(query_s,(indicator_id,))\n",
    "def collection_id(c,indicator_id):\n",
    "    table_name = 'collection_id'\n",
    "    query_insert = \"INSERT INTO collection_id (indicator_id) VALUES (?);\"\n",
    "    query_s = \"SELECT id FROM collection_id WHERE indicator_id=?;\"\n",
    "    c.execute(\"SELECT count(name) FROM sqlite_master WHERE type='table' AND name=?\",(table_name,))\n",
    "    #a = sql.read_sql(\"select * from collection_id\", conn)\n",
    "    if c.fetchone()[0] == 1:\n",
    "        ##insert into a new data with indicator_id\n",
    "        c.execute(query_insert,(indicator_id,))\n",
    "    else:\n",
    "        c.execute('''CREATE TABLE collection_id\n",
    "             (id INTEGER PRIMARY KEY,\n",
    "              indicator_id varchar(100)\n",
    "              )''')\n",
    "        c.execute(query_insert,(indicator_id,))\n",
    "    c.execute(query_s,(indicator_id,))\n",
    "    id_num = c.fetchall()[0][0]\n",
    "    return id_num"
   ]
  },
  {
   "cell_type": "code",
   "execution_count": 267,
   "metadata": {},
   "outputs": [
    {
     "name": "stdout",
     "output_type": "stream",
     "text": [
      "(3,)\n"
     ]
    }
   ],
   "source": [
    "id_num = collection_id(c,indicator_id)\n",
    "a\n",
    "sql.read_sql(\"select * from collection_id\", conn)\n",
    "query_s = \"SELECT id FROM collection_id WHERE indicator_id=?;\"\n",
    "c.execute(query_s,(indicator_id,))\n",
    "id_num = c.fetchone()\n",
    "print(id_num)\n"
   ]
  },
  {
   "cell_type": "code",
   "execution_count": 264,
   "metadata": {},
   "outputs": [
    {
     "data": {
      "text/plain": [
       "3"
      ]
     },
     "execution_count": 264,
     "metadata": {},
     "output_type": "execute_result"
    }
   ],
   "source": [
    "id_num"
   ]
  },
  {
   "cell_type": "code",
   "execution_count": 19,
   "metadata": {},
   "outputs": [],
   "source": [
    "indicators = []\n",
    "for i in range(len(data[1])):\n",
    "    indicators.append(data[1][i]['indicator']['id'])"
   ]
  },
  {
   "cell_type": "code",
   "execution_count": 114,
   "metadata": {},
   "outputs": [
    {
     "data": {
      "text/plain": [
       "<sqlite3.Cursor at 0x121109c00>"
      ]
     },
     "execution_count": 114,
     "metadata": {},
     "output_type": "execute_result"
    }
   ],
   "source": [
    "c.execute('''CREATE TABLE b_d\n",
    "             (name_id INTEGER PRIMARY KEY,\n",
    "              first_name varchar(20) NOT NULL,\n",
    "              last_name varchar(20) NOT NULL)''')"
   ]
  },
  {
   "cell_type": "code",
   "execution_count": 106,
   "metadata": {},
   "outputs": [
    {
     "name": "stdout",
     "output_type": "stream",
     "text": [
      "dd\n"
     ]
    }
   ],
   "source": [
    "c.execute(\"SELECT count(name) FROM sqlite_master WHERE type='table' AND name=?\",(table_name,))\n",
    "#c.execute('''SELECT count(*) FROM a''')\n",
    "if c.fetchone()[0] == 1:\n",
    "    print('dd')"
   ]
  },
  {
   "cell_type": "code",
   "execution_count": 216,
   "metadata": {},
   "outputs": [
    {
     "data": {
      "text/html": [
       "<div>\n",
       "<style scoped>\n",
       "    .dataframe tbody tr th:only-of-type {\n",
       "        vertical-align: middle;\n",
       "    }\n",
       "\n",
       "    .dataframe tbody tr th {\n",
       "        vertical-align: top;\n",
       "    }\n",
       "\n",
       "    .dataframe thead th {\n",
       "        text-align: right;\n",
       "    }\n",
       "</style>\n",
       "<table border=\"1\" class=\"dataframe\">\n",
       "  <thead>\n",
       "    <tr style=\"text-align: right;\">\n",
       "      <th></th>\n",
       "      <th>type</th>\n",
       "      <th>name</th>\n",
       "      <th>tbl_name</th>\n",
       "      <th>rootpage</th>\n",
       "      <th>sql</th>\n",
       "    </tr>\n",
       "  </thead>\n",
       "  <tbody>\n",
       "  </tbody>\n",
       "</table>\n",
       "</div>"
      ],
      "text/plain": [
       "Empty DataFrame\n",
       "Columns: [type, name, tbl_name, rootpage, sql]\n",
       "Index: []"
      ]
     },
     "execution_count": 216,
     "metadata": {},
     "output_type": "execute_result"
    }
   ],
   "source": [
    "a = sql.read_sql(\"select * from \" + \"sqlite_master WHERE type='table'\", conn)\n",
    "a[a['name']==table_name]"
   ]
  },
  {
   "cell_type": "code",
   "execution_count": 152,
   "metadata": {},
   "outputs": [
    {
     "data": {
      "text/plain": [
       "<sqlite3.Cursor at 0x121109c00>"
      ]
     },
     "execution_count": 152,
     "metadata": {},
     "output_type": "execute_result"
    }
   ],
   "source": [
    "c.execute(\"DROP TABLE collection_id\")\n",
    "c.execute('''CREATE TABLE collection_id\n",
    "             (id INTEGER PRIMARY KEY AUTOINCREMENT,\n",
    "              indicator_id varchar(100)\n",
    "              )''')\n"
   ]
  },
  {
   "cell_type": "code",
   "execution_count": 163,
   "metadata": {},
   "outputs": [
    {
     "data": {
      "text/plain": [
       "<sqlite3.Cursor at 0x121109c00>"
      ]
     },
     "execution_count": 163,
     "metadata": {},
     "output_type": "execute_result"
    }
   ],
   "source": [
    "e = 'collection_id'\n",
    "indicator_id = \"NY.GDP.MKTP.CD\"\n",
    "query = \"INSERT INTO collection_id (indicator_id) VALUES (?);\"\n",
    "tuple_id = (indicator_id_1,)\n",
    "c.execute(query,(indicator_id,))"
   ]
  },
  {
   "cell_type": "code",
   "execution_count": 154,
   "metadata": {},
   "outputs": [
    {
     "data": {
      "text/plain": [
       "<sqlite3.Cursor at 0x121109c00>"
      ]
     },
     "execution_count": 154,
     "metadata": {},
     "output_type": "execute_result"
    }
   ],
   "source": [
    "c.execute(\"INSERT INTO collection_id(indicator_id) VALUES('NY.GDP.MKTP.CD')\")"
   ]
  },
  {
   "cell_type": "code",
   "execution_count": 215,
   "metadata": {},
   "outputs": [
    {
     "data": {
      "text/html": [
       "<div>\n",
       "<style scoped>\n",
       "    .dataframe tbody tr th:only-of-type {\n",
       "        vertical-align: middle;\n",
       "    }\n",
       "\n",
       "    .dataframe tbody tr th {\n",
       "        vertical-align: top;\n",
       "    }\n",
       "\n",
       "    .dataframe thead th {\n",
       "        text-align: right;\n",
       "    }\n",
       "</style>\n",
       "<table border=\"1\" class=\"dataframe\">\n",
       "  <thead>\n",
       "    <tr style=\"text-align: right;\">\n",
       "      <th></th>\n",
       "      <th>id</th>\n",
       "      <th>indicator_id</th>\n",
       "    </tr>\n",
       "  </thead>\n",
       "  <tbody>\n",
       "  </tbody>\n",
       "</table>\n",
       "</div>"
      ],
      "text/plain": [
       "Empty DataFrame\n",
       "Columns: [id, indicator_id]\n",
       "Index: []"
      ]
     },
     "execution_count": 215,
     "metadata": {},
     "output_type": "execute_result"
    }
   ],
   "source": [
    "sql.read_sql(\"select * from collection_id\",conn)"
   ]
  },
  {
   "cell_type": "code",
   "execution_count": 194,
   "metadata": {},
   "outputs": [
    {
     "data": {
      "text/plain": [
       "<sqlite3.Cursor at 0x121109c00>"
      ]
     },
     "execution_count": 194,
     "metadata": {},
     "output_type": "execute_result"
    }
   ],
   "source": [
    "query_s = \"SELECT id FROM collection_id WHERE indicator_id=?;\"\n",
    "c.execute(query_s,(indicator_id,))"
   ]
  },
  {
   "cell_type": "code",
   "execution_count": 195,
   "metadata": {},
   "outputs": [
    {
     "data": {
      "text/plain": [
       "1"
      ]
     },
     "execution_count": 195,
     "metadata": {},
     "output_type": "execute_result"
    }
   ],
   "source": [
    "c.fetchone()[0]"
   ]
  },
  {
   "cell_type": "code",
   "execution_count": 184,
   "metadata": {},
   "outputs": [
    {
     "data": {
      "text/plain": [
       "[(1,), (2,), (3,), (4,), (5,)]"
      ]
     },
     "execution_count": 184,
     "metadata": {},
     "output_type": "execute_result"
    }
   ],
   "source": [
    "l"
   ]
  },
  {
   "cell_type": "code",
   "execution_count": 207,
   "metadata": {},
   "outputs": [
    {
     "data": {
      "text/plain": [
       "'2020-03-28 00:01:06.246576'"
      ]
     },
     "execution_count": 207,
     "metadata": {},
     "output_type": "execute_result"
    }
   ],
   "source": [
    "str(datetime.datetime.utcnow())"
   ]
  },
  {
   "cell_type": "code",
   "execution_count": null,
   "metadata": {},
   "outputs": [],
   "source": []
  }
 ],
 "metadata": {
  "kernelspec": {
   "display_name": "Python 3",
   "language": "python",
   "name": "python3"
  },
  "language_info": {
   "codemirror_mode": {
    "name": "ipython",
    "version": 3
   },
   "file_extension": ".py",
   "mimetype": "text/x-python",
   "name": "python",
   "nbconvert_exporter": "python",
   "pygments_lexer": "ipython3",
   "version": "3.7.4"
  }
 },
 "nbformat": 4,
 "nbformat_minor": 2
}
